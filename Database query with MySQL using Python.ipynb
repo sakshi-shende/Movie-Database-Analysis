{
 "cells": [
  {
   "cell_type": "markdown",
   "id": "a503f7cf-be6f-4a6f-9658-475b444c6c8f",
   "metadata": {},
   "source": [
    "# Assignment 4 - Advanced SQL"
   ]
  },
  {
   "cell_type": "markdown",
   "id": "e8c60a1a-8a0e-47c4-9d24-7d38092e8014",
   "metadata": {},
   "source": [
    "###### Submitted by Sakshi Shende"
   ]
  },
  {
   "cell_type": "markdown",
   "id": "eb026222-bd05-4746-a532-e807c49d38ae",
   "metadata": {},
   "source": [
    "###### Date: 29 October 2022"
   ]
  },
  {
   "cell_type": "markdown",
   "id": "ff045ce4-4ef6-4a7e-8255-106dbabf4329",
   "metadata": {},
   "source": [
    "### Installing the following python packages"
   ]
  },
  {
   "cell_type": "code",
   "execution_count": 1,
   "id": "cae246a6-2b66-4d8c-9e65-84e49d5c471e",
   "metadata": {},
   "outputs": [
    {
     "name": "stdout",
     "output_type": "stream",
     "text": [
      "Requirement already satisfied: pandas in c:\\users\\sakshi\\anaconda3\\lib\\site-packages (1.4.2)\n",
      "Requirement already satisfied: python-dateutil>=2.8.1 in c:\\users\\sakshi\\anaconda3\\lib\\site-packages (from pandas) (2.8.2)\n",
      "Requirement already satisfied: pytz>=2020.1 in c:\\users\\sakshi\\anaconda3\\lib\\site-packages (from pandas) (2021.3)\n",
      "Requirement already satisfied: numpy>=1.18.5 in c:\\users\\sakshi\\anaconda3\\lib\\site-packages (from pandas) (1.21.5)\n",
      "Requirement already satisfied: six>=1.5 in c:\\users\\sakshi\\anaconda3\\lib\\site-packages (from python-dateutil>=2.8.1->pandas) (1.16.0)\n",
      "Requirement already satisfied: pymysql in c:\\users\\sakshi\\anaconda3\\lib\\site-packages (1.0.2)\n"
     ]
    }
   ],
   "source": [
    "!pip install pandas\n",
    "!pip install pymysql"
   ]
  },
  {
   "cell_type": "markdown",
   "id": "7c3fb8cc-e613-4c76-b873-4e3f4ec11025",
   "metadata": {},
   "source": [
    "### Import the libraries "
   ]
  },
  {
   "cell_type": "code",
   "execution_count": 2,
   "id": "93eb6017-2448-4c17-948a-8f785ade467d",
   "metadata": {},
   "outputs": [],
   "source": [
    "import pandas as pd\n",
    "import pymysql"
   ]
  },
  {
   "cell_type": "markdown",
   "id": "4aea1204-29f1-42b5-b4ba-063b103e5396",
   "metadata": {},
   "source": [
    "### Establishing a connection between python and MySQL"
   ]
  },
  {
   "cell_type": "code",
   "execution_count": 3,
   "id": "8658944e-2a4b-4637-8aa3-162503ca172d",
   "metadata": {},
   "outputs": [],
   "source": [
    "connection = pymysql.connect(host='localhost',\n",
    "                             port=3306,\n",
    "                             user='root',\n",
    "                             password='rootroot',\n",
    "                             db='sakila',\n",
    "                             charset='utf8mb4')"
   ]
  },
  {
   "cell_type": "markdown",
   "id": "d67b49c2-54b5-4195-b5ec-c99912cae86e",
   "metadata": {},
   "source": [
    "## Q1 - Which movie genres are most popular?"
   ]
  },
  {
   "cell_type": "code",
   "execution_count": 4,
   "id": "64a087e7-183f-4ba4-83e8-733f01a81641",
   "metadata": {},
   "outputs": [],
   "source": [
    "query1 = \"\"\"\n",
    "SELECT a.name,\n",
    "       COUNT(rental_id) AS times_rented\n",
    "FROM sakila.category a\n",
    "\tJOIN sakila.film_category b\n",
    "    ON a.category_id = b.category_id\n",
    "    JOIN sakila.inventory c\n",
    "    ON b.film_id = c.film_id\n",
    "    JOIN sakila.rental d\n",
    "    ON c.inventory_id = d.inventory_id\n",
    "GROUP BY a.name\n",
    "ORDER BY times_rented DESC\n",
    "\"\"\""
   ]
  },
  {
   "cell_type": "code",
   "execution_count": 5,
   "id": "d4d1d30a-eb3e-4ad7-8617-f3c80d83978a",
   "metadata": {},
   "outputs": [
    {
     "name": "stderr",
     "output_type": "stream",
     "text": [
      "C:\\Users\\Sakshi\\anaconda3\\lib\\site-packages\\pandas\\io\\sql.py:761: UserWarning: pandas only support SQLAlchemy connectable(engine/connection) ordatabase string URI or sqlite3 DBAPI2 connectionother DBAPI2 objects are not tested, please consider using SQLAlchemy\n",
      "  warnings.warn(\n"
     ]
    },
    {
     "data": {
      "text/html": [
       "<div>\n",
       "<style scoped>\n",
       "    .dataframe tbody tr th:only-of-type {\n",
       "        vertical-align: middle;\n",
       "    }\n",
       "\n",
       "    .dataframe tbody tr th {\n",
       "        vertical-align: top;\n",
       "    }\n",
       "\n",
       "    .dataframe thead th {\n",
       "        text-align: right;\n",
       "    }\n",
       "</style>\n",
       "<table border=\"1\" class=\"dataframe\">\n",
       "  <thead>\n",
       "    <tr style=\"text-align: right;\">\n",
       "      <th></th>\n",
       "      <th>name</th>\n",
       "      <th>times_rented</th>\n",
       "    </tr>\n",
       "  </thead>\n",
       "  <tbody>\n",
       "    <tr>\n",
       "      <th>0</th>\n",
       "      <td>Sports</td>\n",
       "      <td>1179</td>\n",
       "    </tr>\n",
       "    <tr>\n",
       "      <th>1</th>\n",
       "      <td>Animation</td>\n",
       "      <td>1166</td>\n",
       "    </tr>\n",
       "    <tr>\n",
       "      <th>2</th>\n",
       "      <td>Action</td>\n",
       "      <td>1112</td>\n",
       "    </tr>\n",
       "    <tr>\n",
       "      <th>3</th>\n",
       "      <td>Sci-Fi</td>\n",
       "      <td>1101</td>\n",
       "    </tr>\n",
       "    <tr>\n",
       "      <th>4</th>\n",
       "      <td>Family</td>\n",
       "      <td>1096</td>\n",
       "    </tr>\n",
       "    <tr>\n",
       "      <th>5</th>\n",
       "      <td>Drama</td>\n",
       "      <td>1060</td>\n",
       "    </tr>\n",
       "    <tr>\n",
       "      <th>6</th>\n",
       "      <td>Documentary</td>\n",
       "      <td>1050</td>\n",
       "    </tr>\n",
       "    <tr>\n",
       "      <th>7</th>\n",
       "      <td>Foreign</td>\n",
       "      <td>1033</td>\n",
       "    </tr>\n",
       "    <tr>\n",
       "      <th>8</th>\n",
       "      <td>Games</td>\n",
       "      <td>969</td>\n",
       "    </tr>\n",
       "    <tr>\n",
       "      <th>9</th>\n",
       "      <td>Children</td>\n",
       "      <td>945</td>\n",
       "    </tr>\n",
       "  </tbody>\n",
       "</table>\n",
       "</div>"
      ],
      "text/plain": [
       "          name  times_rented\n",
       "0       Sports          1179\n",
       "1    Animation          1166\n",
       "2       Action          1112\n",
       "3       Sci-Fi          1101\n",
       "4       Family          1096\n",
       "5        Drama          1060\n",
       "6  Documentary          1050\n",
       "7      Foreign          1033\n",
       "8        Games           969\n",
       "9     Children           945"
      ]
     },
     "execution_count": 5,
     "metadata": {},
     "output_type": "execute_result"
    }
   ],
   "source": [
    "result1 = pd.read_sql(query1, connection)\n",
    "result1.head(10)"
   ]
  },
  {
   "cell_type": "markdown",
   "id": "3636c63d-6e92-4025-960f-dddf354984d8",
   "metadata": {},
   "source": [
    "## Q2 - Which actors' movies are popular?"
   ]
  },
  {
   "cell_type": "code",
   "execution_count": 6,
   "id": "a81a7d39-4487-4591-bb49-bf42f6ff61b8",
   "metadata": {},
   "outputs": [],
   "source": [
    "query2 = \"\"\"\n",
    "SELECT a.actor_id,\n",
    "\t   a.first_name,\n",
    "       a.last_name,\n",
    "       COUNT(e.rental_id) AS times_rented\n",
    "FROM sakila.actor a\n",
    "\tJOIN sakila.film_actor b\n",
    "    ON a.actor_id = b.actor_id\n",
    "    JOIN sakila.film c\n",
    "    ON b.film_id = c.film_id\n",
    "    JOIN sakila.inventory d\n",
    "    ON c.film_id = d.film_id\n",
    "    JOIN sakila.rental e\n",
    "    ON d.inventory_id = e.inventory_id\n",
    "GROUP BY a.actor_id\n",
    "ORDER BY times_rented DESC\n",
    "\"\"\""
   ]
  },
  {
   "cell_type": "code",
   "execution_count": 7,
   "id": "fb37352a-d9ef-4170-977b-45993d2a6594",
   "metadata": {},
   "outputs": [
    {
     "name": "stderr",
     "output_type": "stream",
     "text": [
      "C:\\Users\\Sakshi\\anaconda3\\lib\\site-packages\\pandas\\io\\sql.py:761: UserWarning: pandas only support SQLAlchemy connectable(engine/connection) ordatabase string URI or sqlite3 DBAPI2 connectionother DBAPI2 objects are not tested, please consider using SQLAlchemy\n",
      "  warnings.warn(\n"
     ]
    },
    {
     "data": {
      "text/html": [
       "<div>\n",
       "<style scoped>\n",
       "    .dataframe tbody tr th:only-of-type {\n",
       "        vertical-align: middle;\n",
       "    }\n",
       "\n",
       "    .dataframe tbody tr th {\n",
       "        vertical-align: top;\n",
       "    }\n",
       "\n",
       "    .dataframe thead th {\n",
       "        text-align: right;\n",
       "    }\n",
       "</style>\n",
       "<table border=\"1\" class=\"dataframe\">\n",
       "  <thead>\n",
       "    <tr style=\"text-align: right;\">\n",
       "      <th></th>\n",
       "      <th>actor_id</th>\n",
       "      <th>first_name</th>\n",
       "      <th>last_name</th>\n",
       "      <th>times_rented</th>\n",
       "    </tr>\n",
       "  </thead>\n",
       "  <tbody>\n",
       "    <tr>\n",
       "      <th>0</th>\n",
       "      <td>107</td>\n",
       "      <td>GINA</td>\n",
       "      <td>DEGENERES</td>\n",
       "      <td>753</td>\n",
       "    </tr>\n",
       "    <tr>\n",
       "      <th>1</th>\n",
       "      <td>181</td>\n",
       "      <td>MATTHEW</td>\n",
       "      <td>CARREY</td>\n",
       "      <td>678</td>\n",
       "    </tr>\n",
       "    <tr>\n",
       "      <th>2</th>\n",
       "      <td>198</td>\n",
       "      <td>MARY</td>\n",
       "      <td>KEITEL</td>\n",
       "      <td>674</td>\n",
       "    </tr>\n",
       "    <tr>\n",
       "      <th>3</th>\n",
       "      <td>144</td>\n",
       "      <td>ANGELA</td>\n",
       "      <td>WITHERSPOON</td>\n",
       "      <td>654</td>\n",
       "    </tr>\n",
       "    <tr>\n",
       "      <th>4</th>\n",
       "      <td>102</td>\n",
       "      <td>WALTER</td>\n",
       "      <td>TORN</td>\n",
       "      <td>640</td>\n",
       "    </tr>\n",
       "    <tr>\n",
       "      <th>5</th>\n",
       "      <td>60</td>\n",
       "      <td>HENRY</td>\n",
       "      <td>BERRY</td>\n",
       "      <td>612</td>\n",
       "    </tr>\n",
       "    <tr>\n",
       "      <th>6</th>\n",
       "      <td>150</td>\n",
       "      <td>JAYNE</td>\n",
       "      <td>NOLTE</td>\n",
       "      <td>611</td>\n",
       "    </tr>\n",
       "    <tr>\n",
       "      <th>7</th>\n",
       "      <td>37</td>\n",
       "      <td>VAL</td>\n",
       "      <td>BOLGER</td>\n",
       "      <td>605</td>\n",
       "    </tr>\n",
       "    <tr>\n",
       "      <th>8</th>\n",
       "      <td>23</td>\n",
       "      <td>SANDRA</td>\n",
       "      <td>KILMER</td>\n",
       "      <td>604</td>\n",
       "    </tr>\n",
       "    <tr>\n",
       "      <th>9</th>\n",
       "      <td>90</td>\n",
       "      <td>SEAN</td>\n",
       "      <td>GUINESS</td>\n",
       "      <td>599</td>\n",
       "    </tr>\n",
       "  </tbody>\n",
       "</table>\n",
       "</div>"
      ],
      "text/plain": [
       "   actor_id first_name    last_name  times_rented\n",
       "0       107       GINA    DEGENERES           753\n",
       "1       181    MATTHEW       CARREY           678\n",
       "2       198       MARY       KEITEL           674\n",
       "3       144     ANGELA  WITHERSPOON           654\n",
       "4       102     WALTER         TORN           640\n",
       "5        60      HENRY        BERRY           612\n",
       "6       150      JAYNE        NOLTE           611\n",
       "7        37        VAL       BOLGER           605\n",
       "8        23     SANDRA       KILMER           604\n",
       "9        90       SEAN      GUINESS           599"
      ]
     },
     "execution_count": 7,
     "metadata": {},
     "output_type": "execute_result"
    }
   ],
   "source": [
    "result2 = pd.read_sql(query2, connection)\n",
    "result2.head(10)  "
   ]
  },
  {
   "cell_type": "markdown",
   "id": "5dd3d331-72b3-42b7-a808-01bacecee5d8",
   "metadata": {},
   "source": [
    "## Q3 - How much business, in dollars, each store brought in?"
   ]
  },
  {
   "cell_type": "code",
   "execution_count": 8,
   "id": "c84ff072-21ca-4f0c-80a4-de303fb29a7c",
   "metadata": {},
   "outputs": [],
   "source": [
    "query3 = \"\"\"\n",
    "SELECT d.store_id,\n",
    "\t   f.city,\n",
    "       g.country,\n",
    "       SUM(a.amount) AS total_sales\n",
    "FROM sakila.payment a\n",
    "\tJOIN sakila.rental b\n",
    "    ON a.rental_id = b.rental_id\n",
    "    JOIN sakila.inventory c\n",
    "    ON b.inventory_id = c.inventory_id\n",
    "    JOIN sakila.store d\n",
    "    ON c.store_id = d.store_id\n",
    "    JOIN sakila.address e\n",
    "    ON d.address_id = e.address_id\n",
    "    JOIN sakila.city f\n",
    "    ON e.city_id = f.city_id\n",
    "    JOIN sakila.country g\n",
    "    ON f.country_id = g.country_id\n",
    "GROUP BY d.store_id\n",
    "ORDER BY  total_sales DESC\n",
    "\"\"\""
   ]
  },
  {
   "cell_type": "code",
   "execution_count": 9,
   "id": "674a211f-12e8-408d-9019-9c33b5dc11fb",
   "metadata": {},
   "outputs": [
    {
     "name": "stderr",
     "output_type": "stream",
     "text": [
      "C:\\Users\\Sakshi\\anaconda3\\lib\\site-packages\\pandas\\io\\sql.py:761: UserWarning: pandas only support SQLAlchemy connectable(engine/connection) ordatabase string URI or sqlite3 DBAPI2 connectionother DBAPI2 objects are not tested, please consider using SQLAlchemy\n",
      "  warnings.warn(\n"
     ]
    },
    {
     "data": {
      "text/html": [
       "<div>\n",
       "<style scoped>\n",
       "    .dataframe tbody tr th:only-of-type {\n",
       "        vertical-align: middle;\n",
       "    }\n",
       "\n",
       "    .dataframe tbody tr th {\n",
       "        vertical-align: top;\n",
       "    }\n",
       "\n",
       "    .dataframe thead th {\n",
       "        text-align: right;\n",
       "    }\n",
       "</style>\n",
       "<table border=\"1\" class=\"dataframe\">\n",
       "  <thead>\n",
       "    <tr style=\"text-align: right;\">\n",
       "      <th></th>\n",
       "      <th>store_id</th>\n",
       "      <th>city</th>\n",
       "      <th>country</th>\n",
       "      <th>total_sales</th>\n",
       "    </tr>\n",
       "  </thead>\n",
       "  <tbody>\n",
       "    <tr>\n",
       "      <th>0</th>\n",
       "      <td>2</td>\n",
       "      <td>Woodridge</td>\n",
       "      <td>Australia</td>\n",
       "      <td>33726.77</td>\n",
       "    </tr>\n",
       "    <tr>\n",
       "      <th>1</th>\n",
       "      <td>1</td>\n",
       "      <td>Lethbridge</td>\n",
       "      <td>Canada</td>\n",
       "      <td>33679.79</td>\n",
       "    </tr>\n",
       "  </tbody>\n",
       "</table>\n",
       "</div>"
      ],
      "text/plain": [
       "   store_id        city    country  total_sales\n",
       "0         2   Woodridge  Australia     33726.77\n",
       "1         1  Lethbridge     Canada     33679.79"
      ]
     },
     "execution_count": 9,
     "metadata": {},
     "output_type": "execute_result"
    }
   ],
   "source": [
    "result3 = pd.read_sql(query3, connection)\n",
    "result3.head(10) "
   ]
  },
  {
   "cell_type": "markdown",
   "id": "89c73ed0-3d7d-4bf3-9b03-8ef4633660c2",
   "metadata": {},
   "source": [
    "## Q4 - List each film and the number of actors who are listed for that film."
   ]
  },
  {
   "cell_type": "code",
   "execution_count": 10,
   "id": "b7ae1cb9-c5d3-4b3f-a78e-6d0b150802f4",
   "metadata": {},
   "outputs": [],
   "source": [
    "query4 = \"\"\"\n",
    "SELECT a.film_id,\n",
    "\t   a.title,\n",
    "\t   COUNT(b.actor_id) AS number_of_actor\n",
    "FROM sakila.film a\n",
    "\tJOIN sakila.film_actor b\n",
    "\tON a.film_id = b.film_id\n",
    "GROUP BY a.film_id\n",
    "ORDER BY number_of_actor DESC\n",
    "\"\"\""
   ]
  },
  {
   "cell_type": "code",
   "execution_count": 11,
   "id": "a0231aaf-386e-4fa3-959d-1984c052c178",
   "metadata": {},
   "outputs": [
    {
     "name": "stderr",
     "output_type": "stream",
     "text": [
      "C:\\Users\\Sakshi\\anaconda3\\lib\\site-packages\\pandas\\io\\sql.py:761: UserWarning: pandas only support SQLAlchemy connectable(engine/connection) ordatabase string URI or sqlite3 DBAPI2 connectionother DBAPI2 objects are not tested, please consider using SQLAlchemy\n",
      "  warnings.warn(\n"
     ]
    },
    {
     "data": {
      "text/html": [
       "<div>\n",
       "<style scoped>\n",
       "    .dataframe tbody tr th:only-of-type {\n",
       "        vertical-align: middle;\n",
       "    }\n",
       "\n",
       "    .dataframe tbody tr th {\n",
       "        vertical-align: top;\n",
       "    }\n",
       "\n",
       "    .dataframe thead th {\n",
       "        text-align: right;\n",
       "    }\n",
       "</style>\n",
       "<table border=\"1\" class=\"dataframe\">\n",
       "  <thead>\n",
       "    <tr style=\"text-align: right;\">\n",
       "      <th></th>\n",
       "      <th>film_id</th>\n",
       "      <th>title</th>\n",
       "      <th>number_of_actor</th>\n",
       "    </tr>\n",
       "  </thead>\n",
       "  <tbody>\n",
       "    <tr>\n",
       "      <th>0</th>\n",
       "      <td>508</td>\n",
       "      <td>LAMBS CINCINATTI</td>\n",
       "      <td>15</td>\n",
       "    </tr>\n",
       "    <tr>\n",
       "      <th>1</th>\n",
       "      <td>87</td>\n",
       "      <td>BOONDOCK BALLROOM</td>\n",
       "      <td>13</td>\n",
       "    </tr>\n",
       "    <tr>\n",
       "      <th>2</th>\n",
       "      <td>146</td>\n",
       "      <td>CHITTY LOCK</td>\n",
       "      <td>13</td>\n",
       "    </tr>\n",
       "    <tr>\n",
       "      <th>3</th>\n",
       "      <td>188</td>\n",
       "      <td>CRAZY HOME</td>\n",
       "      <td>13</td>\n",
       "    </tr>\n",
       "    <tr>\n",
       "      <th>4</th>\n",
       "      <td>249</td>\n",
       "      <td>DRACULA CRYSTAL</td>\n",
       "      <td>13</td>\n",
       "    </tr>\n",
       "    <tr>\n",
       "      <th>5</th>\n",
       "      <td>606</td>\n",
       "      <td>MUMMY CREATURES</td>\n",
       "      <td>13</td>\n",
       "    </tr>\n",
       "    <tr>\n",
       "      <th>6</th>\n",
       "      <td>714</td>\n",
       "      <td>RANDOM GO</td>\n",
       "      <td>13</td>\n",
       "    </tr>\n",
       "    <tr>\n",
       "      <th>7</th>\n",
       "      <td>34</td>\n",
       "      <td>ARABIA DOGMA</td>\n",
       "      <td>12</td>\n",
       "    </tr>\n",
       "    <tr>\n",
       "      <th>8</th>\n",
       "      <td>414</td>\n",
       "      <td>HELLFIGHTERS SIERRA</td>\n",
       "      <td>12</td>\n",
       "    </tr>\n",
       "    <tr>\n",
       "      <th>9</th>\n",
       "      <td>517</td>\n",
       "      <td>LESSON CLEOPATRA</td>\n",
       "      <td>12</td>\n",
       "    </tr>\n",
       "  </tbody>\n",
       "</table>\n",
       "</div>"
      ],
      "text/plain": [
       "   film_id                title  number_of_actor\n",
       "0      508     LAMBS CINCINATTI               15\n",
       "1       87    BOONDOCK BALLROOM               13\n",
       "2      146          CHITTY LOCK               13\n",
       "3      188           CRAZY HOME               13\n",
       "4      249      DRACULA CRYSTAL               13\n",
       "5      606      MUMMY CREATURES               13\n",
       "6      714            RANDOM GO               13\n",
       "7       34         ARABIA DOGMA               12\n",
       "8      414  HELLFIGHTERS SIERRA               12\n",
       "9      517     LESSON CLEOPATRA               12"
      ]
     },
     "execution_count": 11,
     "metadata": {},
     "output_type": "execute_result"
    }
   ],
   "source": [
    "result4 = pd.read_sql(query4, connection)\n",
    "result4.head(10)"
   ]
  },
  {
   "cell_type": "markdown",
   "id": "5efcc007-85e3-4829-8bf9-8157e1733c13",
   "metadata": {},
   "source": [
    "## Q5 - Display the first and last names, as well as the address, of each staff member."
   ]
  },
  {
   "cell_type": "code",
   "execution_count": 12,
   "id": "19c956ab-73e4-4469-a19c-d2d5d795e05e",
   "metadata": {},
   "outputs": [],
   "source": [
    "query5 = \"\"\"\n",
    "SELECT a.first_name,\n",
    "       a.last_name,\n",
    "       b.address\n",
    "FROM sakila.staff a\n",
    "\tJOIN sakila.address b\n",
    "    ON a.address_id = b.address_id\n",
    "\"\"\""
   ]
  },
  {
   "cell_type": "code",
   "execution_count": 13,
   "id": "22d606a2-cec2-4d46-9fee-93af8b7f9316",
   "metadata": {},
   "outputs": [
    {
     "name": "stderr",
     "output_type": "stream",
     "text": [
      "C:\\Users\\Sakshi\\anaconda3\\lib\\site-packages\\pandas\\io\\sql.py:761: UserWarning: pandas only support SQLAlchemy connectable(engine/connection) ordatabase string URI or sqlite3 DBAPI2 connectionother DBAPI2 objects are not tested, please consider using SQLAlchemy\n",
      "  warnings.warn(\n"
     ]
    },
    {
     "data": {
      "text/html": [
       "<div>\n",
       "<style scoped>\n",
       "    .dataframe tbody tr th:only-of-type {\n",
       "        vertical-align: middle;\n",
       "    }\n",
       "\n",
       "    .dataframe tbody tr th {\n",
       "        vertical-align: top;\n",
       "    }\n",
       "\n",
       "    .dataframe thead th {\n",
       "        text-align: right;\n",
       "    }\n",
       "</style>\n",
       "<table border=\"1\" class=\"dataframe\">\n",
       "  <thead>\n",
       "    <tr style=\"text-align: right;\">\n",
       "      <th></th>\n",
       "      <th>first_name</th>\n",
       "      <th>last_name</th>\n",
       "      <th>address</th>\n",
       "    </tr>\n",
       "  </thead>\n",
       "  <tbody>\n",
       "    <tr>\n",
       "      <th>0</th>\n",
       "      <td>Mike</td>\n",
       "      <td>Hillyer</td>\n",
       "      <td>23 Workhaven Lane</td>\n",
       "    </tr>\n",
       "    <tr>\n",
       "      <th>1</th>\n",
       "      <td>Jon</td>\n",
       "      <td>Stephens</td>\n",
       "      <td>1411 Lillydale Drive</td>\n",
       "    </tr>\n",
       "  </tbody>\n",
       "</table>\n",
       "</div>"
      ],
      "text/plain": [
       "  first_name last_name               address\n",
       "0       Mike   Hillyer     23 Workhaven Lane\n",
       "1        Jon  Stephens  1411 Lillydale Drive"
      ]
     },
     "execution_count": 13,
     "metadata": {},
     "output_type": "execute_result"
    }
   ],
   "source": [
    "result5 = pd.read_sql(query5, connection)\n",
    "result5.head(10)"
   ]
  }
 ],
 "metadata": {
  "kernelspec": {
   "display_name": "Python 3 (ipykernel)",
   "language": "python",
   "name": "python3"
  },
  "language_info": {
   "codemirror_mode": {
    "name": "ipython",
    "version": 3
   },
   "file_extension": ".py",
   "mimetype": "text/x-python",
   "name": "python",
   "nbconvert_exporter": "python",
   "pygments_lexer": "ipython3",
   "version": "3.9.12"
  }
 },
 "nbformat": 4,
 "nbformat_minor": 5
}
